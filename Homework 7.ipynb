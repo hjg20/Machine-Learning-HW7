{
 "cells": [
  {
   "cell_type": "code",
   "execution_count": 1,
   "id": "02e4b04c",
   "metadata": {},
   "outputs": [],
   "source": [
    "import torch\n",
    "import torch.nn as nn\n",
    "import torch.nn.functional as F\n",
    "from torch.utils.data import DataLoader\n",
    "from torchvision.utils import make_grid\n",
    "from PIL import Image\n",
    "import torchvision.transforms as transforms\n",
    "import matplotlib.pyplot as plt\n"
   ]
  },
  {
   "cell_type": "code",
   "execution_count": 2,
   "id": "51485062",
   "metadata": {},
   "outputs": [
    {
     "data": {
      "text/plain": [
       "True"
      ]
     },
     "execution_count": 2,
     "metadata": {},
     "output_type": "execute_result"
    }
   ],
   "source": [
    "torch.cuda.is_available()"
   ]
  },
  {
   "cell_type": "code",
   "execution_count": 3,
   "id": "c8c4f00c",
   "metadata": {},
   "outputs": [],
   "source": [
    "image=Image.open('horse025b.png')\n",
    "transform=transforms.Compose([transforms.ToTensor()])\n",
    "image_tensor=transform(image)\n",
    "#resize=transforms.Resize((84,128))\n",
    "#image_tensor=resize(image_tensor[0])"
   ]
  },
  {
   "cell_type": "code",
   "execution_count": 4,
   "id": "2c27277e",
   "metadata": {},
   "outputs": [
    {
     "name": "stdout",
     "output_type": "stream",
     "text": [
      "Mean: -6.226556337196598e-08\n",
      "Standard Deviation: 1.0\n"
     ]
    }
   ],
   "source": [
    "image_tensor=(image_tensor-image_tensor.mean())/image_tensor.std()\n",
    "print(f'Mean: {image_tensor.mean()}\\nStandard Deviation: {image_tensor.std()}')"
   ]
  },
  {
   "cell_type": "code",
   "execution_count": 5,
   "id": "37937096",
   "metadata": {},
   "outputs": [],
   "source": [
    "class NNModel(nn.Module):\n",
    "    def __init__(self):\n",
    "        super().__init__()\n",
    "        self.layer1=nn.Linear(10752, 128)\n",
    "        self.relu = nn.ReLU()\n",
    "        self.out=nn.Linear(128,10752)\n",
    "        \n",
    "    def forward(self, x):\n",
    "        x=x.view(x.size(0),-1)\n",
    "        x=self.layer1(x)\n",
    "        x=F.relu(x)\n",
    "        x=self.out(x)\n",
    "        return x     "
   ]
  },
  {
   "cell_type": "code",
   "execution_count": 16,
   "id": "08d14ecb",
   "metadata": {},
   "outputs": [],
   "source": [
    "model=NNModel()\n",
    "criterion=nn.MSELoss()\n",
    "optimizer=torch.optim.SGD(model.parameters(),lr=0.003)\n",
    "scheduler = torch.optim.lr_scheduler.StepLR(optimizer, step_size=100, gamma=0.5)\n",
    "epochs=300\n",
    "batches=64\n",
    "losses=[]\n",
    "data_loader=DataLoader(dataset=image_tensor,batch_size=batches,shuffle=True)\n",
    "for i in range(epochs):\n",
    "    for batch in data_loader:\n",
    "        optimizer.zero_grad()\n",
    "        outputs = model(batch)\n",
    "        loss = criterion(outputs, batch.view(batch.size(0), -1))\n",
    "        loss.backward()\n",
    "        optimizer.step()\n",
    "    scheduler.step()\n",
    "    losses.append(loss.item())"
   ]
  },
  {
   "cell_type": "code",
   "execution_count": 17,
   "id": "a358e0c9",
   "metadata": {},
   "outputs": [
    {
     "data": {
      "image/png": "[encoded data removed]",
      "text/plain": [
       "<Figure size 640x480 with 1 Axes>"
      ]
     },
     "metadata": {},
     "output_type": "display_data"
    }
   ],
   "source": [
    "plt.plot(range(1, epochs + 1), losses)\n",
    "plt.xlabel('Epoch')\n",
    "plt.ylabel('Loss')\n",
    "plt.title('Loss vs. Epoch')\n",
    "plt.show()"
   ]
  }
 ],
 "metadata": {
  "kernelspec": {
   "display_name": "Python 3 (ipykernel)",
   "language": "python",
   "name": "python3"
  },
  "language_info": {
   "codemirror_mode": {
    "name": "ipython",
    "version": 3
   },
   "file_extension": ".py",
   "mimetype": "text/x-python",
   "name": "python",
   "nbconvert_exporter": "python",
   "pygments_lexer": "ipython3",
   "version": "3.10.9"
  }
 },
 "nbformat": 4,
 "nbformat_minor": 5
}
